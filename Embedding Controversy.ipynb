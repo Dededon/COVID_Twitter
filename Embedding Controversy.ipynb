{
  "nbformat": 4,
  "nbformat_minor": 0,
  "metadata": {
    "colab": {
      "name": "EC.ipynb 的副本",
      "provenance": [],
      "include_colab_link": true
    },
    "kernelspec": {
      "name": "python3",
      "display_name": "Python 3"
    },
    "language_info": {
      "name": "python"
    }
  },
  "cells": [
    {
      "cell_type": "markdown",
      "metadata": {
        "id": "view-in-github",
        "colab_type": "text"
      },
      "source": [
        "<a href=\"https://colab.research.google.com/github/Dededon/COVID_Twitter/blob/main/Embedding%20Controversy.ipynb\" target=\"_parent\"><img src=\"https://colab.research.google.com/assets/colab-badge.svg\" alt=\"Open In Colab\"/></a>"
      ]
    },
    {
      "cell_type": "code",
      "metadata": {
        "colab": {
          "base_uri": "https://localhost:8080/"
        },
        "id": "WaMrC5FrfnR0",
        "outputId": "15a13ecc-1e4b-4676-9fac-60804da77345"
      },
      "source": [
        "from google.colab import drive\n",
        "drive.mount('/content/drive')"
      ],
      "execution_count": null,
      "outputs": [
        {
          "output_type": "stream",
          "text": [
            "Drive already mounted at /content/drive; to attempt to forcibly remount, call drive.mount(\"/content/drive\", force_remount=True).\n"
          ],
          "name": "stdout"
        }
      ]
    },
    {
      "cell_type": "code",
      "metadata": {
        "id": "hHINJTYkcInt"
      },
      "source": [
        "from itertools import combinations\n",
        "import pandas as pd\n",
        "import numpy as np\n",
        "import numba as nb"
      ],
      "execution_count": null,
      "outputs": []
    },
    {
      "cell_type": "code",
      "metadata": {
        "id": "D5moI4WgfP47"
      },
      "source": [
        "def nodeSameCluster(nodes):\n",
        "    return combinations(nodes, 2)\n",
        "\n",
        "@nb.njit(fastmath=True)\n",
        "def norm(array1, array2):\n",
        "    s = 0\n",
        "    for i in range(array1.shape[0]):\n",
        "        s += (array1[i] - array2[i])**2\n",
        "    return s**0.5"
      ],
      "execution_count": null,
      "outputs": []
    },
    {
      "cell_type": "code",
      "metadata": {
        "id": "BPNY6KG3n19_",
        "colab": {
          "base_uri": "https://localhost:8080/",
          "height": 204
        },
        "outputId": "cd355877-18af-49d6-cb1f-bb0a4b627925"
      },
      "source": [
        "df = pd.read_csv(\"drive/MyDrive/HKUST/Comp 4641 Project/mask_co_hashtag_t2_cluster.csv\")[[\"node\", \"cluster\", \"x\", \"y\"]]\n",
        "df.head()"
      ],
      "execution_count": null,
      "outputs": [
        {
          "output_type": "execute_result",
          "data": {
            "text/html": [
              "<div>\n",
              "<style scoped>\n",
              "    .dataframe tbody tr th:only-of-type {\n",
              "        vertical-align: middle;\n",
              "    }\n",
              "\n",
              "    .dataframe tbody tr th {\n",
              "        vertical-align: top;\n",
              "    }\n",
              "\n",
              "    .dataframe thead th {\n",
              "        text-align: right;\n",
              "    }\n",
              "</style>\n",
              "<table border=\"1\" class=\"dataframe\">\n",
              "  <thead>\n",
              "    <tr style=\"text-align: right;\">\n",
              "      <th></th>\n",
              "      <th>node</th>\n",
              "      <th>cluster</th>\n",
              "      <th>x</th>\n",
              "      <th>y</th>\n",
              "    </tr>\n",
              "  </thead>\n",
              "  <tbody>\n",
              "    <tr>\n",
              "      <th>0</th>\n",
              "      <td>sdinny14</td>\n",
              "      <td>0</td>\n",
              "      <td>6.693446</td>\n",
              "      <td>9.168682</td>\n",
              "    </tr>\n",
              "    <tr>\n",
              "      <th>1</th>\n",
              "      <td>erinstreeterNAM</td>\n",
              "      <td>0</td>\n",
              "      <td>14.893178</td>\n",
              "      <td>7.216660</td>\n",
              "    </tr>\n",
              "    <tr>\n",
              "      <th>2</th>\n",
              "      <td>vinylcook</td>\n",
              "      <td>0</td>\n",
              "      <td>7.128399</td>\n",
              "      <td>7.869806</td>\n",
              "    </tr>\n",
              "    <tr>\n",
              "      <th>3</th>\n",
              "      <td>ShirtStru</td>\n",
              "      <td>0</td>\n",
              "      <td>9.992977</td>\n",
              "      <td>2.943196</td>\n",
              "    </tr>\n",
              "    <tr>\n",
              "      <th>4</th>\n",
              "      <td>brose2288</td>\n",
              "      <td>1</td>\n",
              "      <td>6.757268</td>\n",
              "      <td>-5.555685</td>\n",
              "    </tr>\n",
              "  </tbody>\n",
              "</table>\n",
              "</div>"
            ],
            "text/plain": [
              "              node  cluster          x         y\n",
              "0         sdinny14        0   6.693446  9.168682\n",
              "1  erinstreeterNAM        0  14.893178  7.216660\n",
              "2        vinylcook        0   7.128399  7.869806\n",
              "3        ShirtStru        0   9.992977  2.943196\n",
              "4        brose2288        1   6.757268 -5.555685"
            ]
          },
          "metadata": {
            "tags": []
          },
          "execution_count": 31
        }
      ]
    },
    {
      "cell_type": "code",
      "metadata": {
        "id": "7bpD4MYkn5r7",
        "colab": {
          "base_uri": "https://localhost:8080/",
          "height": 297
        },
        "outputId": "4a5b0306-a080-4661-cae4-79e440f95497"
      },
      "source": [
        "df.describe()"
      ],
      "execution_count": null,
      "outputs": [
        {
          "output_type": "execute_result",
          "data": {
            "text/html": [
              "<div>\n",
              "<style scoped>\n",
              "    .dataframe tbody tr th:only-of-type {\n",
              "        vertical-align: middle;\n",
              "    }\n",
              "\n",
              "    .dataframe tbody tr th {\n",
              "        vertical-align: top;\n",
              "    }\n",
              "\n",
              "    .dataframe thead th {\n",
              "        text-align: right;\n",
              "    }\n",
              "</style>\n",
              "<table border=\"1\" class=\"dataframe\">\n",
              "  <thead>\n",
              "    <tr style=\"text-align: right;\">\n",
              "      <th></th>\n",
              "      <th>cluster</th>\n",
              "      <th>x</th>\n",
              "      <th>y</th>\n",
              "    </tr>\n",
              "  </thead>\n",
              "  <tbody>\n",
              "    <tr>\n",
              "      <th>count</th>\n",
              "      <td>3425.000000</td>\n",
              "      <td>3425.000000</td>\n",
              "      <td>3425.000000</td>\n",
              "    </tr>\n",
              "    <tr>\n",
              "      <th>mean</th>\n",
              "      <td>0.378686</td>\n",
              "      <td>8.251950</td>\n",
              "      <td>5.910208</td>\n",
              "    </tr>\n",
              "    <tr>\n",
              "      <th>std</th>\n",
              "      <td>0.657417</td>\n",
              "      <td>7.010506</td>\n",
              "      <td>7.832296</td>\n",
              "    </tr>\n",
              "    <tr>\n",
              "      <th>min</th>\n",
              "      <td>0.000000</td>\n",
              "      <td>-10.928577</td>\n",
              "      <td>-11.752399</td>\n",
              "    </tr>\n",
              "    <tr>\n",
              "      <th>25%</th>\n",
              "      <td>0.000000</td>\n",
              "      <td>5.651793</td>\n",
              "      <td>2.193761</td>\n",
              "    </tr>\n",
              "    <tr>\n",
              "      <th>50%</th>\n",
              "      <td>0.000000</td>\n",
              "      <td>7.913805</td>\n",
              "      <td>6.349135</td>\n",
              "    </tr>\n",
              "    <tr>\n",
              "      <th>75%</th>\n",
              "      <td>1.000000</td>\n",
              "      <td>12.210897</td>\n",
              "      <td>10.690126</td>\n",
              "    </tr>\n",
              "    <tr>\n",
              "      <th>max</th>\n",
              "      <td>2.000000</td>\n",
              "      <td>26.093376</td>\n",
              "      <td>22.022476</td>\n",
              "    </tr>\n",
              "  </tbody>\n",
              "</table>\n",
              "</div>"
            ],
            "text/plain": [
              "           cluster            x            y\n",
              "count  3425.000000  3425.000000  3425.000000\n",
              "mean      0.378686     8.251950     5.910208\n",
              "std       0.657417     7.010506     7.832296\n",
              "min       0.000000   -10.928577   -11.752399\n",
              "25%       0.000000     5.651793     2.193761\n",
              "50%       0.000000     7.913805     6.349135\n",
              "75%       1.000000    12.210897    10.690126\n",
              "max       2.000000    26.093376    22.022476"
            ]
          },
          "metadata": {
            "tags": []
          },
          "execution_count": 32
        }
      ]
    },
    {
      "cell_type": "code",
      "metadata": {
        "id": "jYigyiN8n8Vd"
      },
      "source": [
        "n_cluster = int(df.describe().loc[\"max\", \"cluster\"] + 1)"
      ],
      "execution_count": null,
      "outputs": []
    },
    {
      "cell_type": "code",
      "metadata": {
        "id": "sF1mxbL4n-Xo"
      },
      "source": [
        "clusterNodes = list()\n",
        "for i in range(n_cluster):\n",
        "    clusterNodes.append(df[df[\"cluster\"] == i][\"node\"].values.tolist())"
      ],
      "execution_count": null,
      "outputs": []
    },
    {
      "cell_type": "code",
      "metadata": {
        "id": "oajcxc0koBL0"
      },
      "source": [
        "nodes_pos = {df.loc[i][\"node\"]: df.loc[i][[\"x\", \"y\"]].values.astype(np.float32) for i in range(len(df))}"
      ],
      "execution_count": null,
      "outputs": []
    },
    {
      "cell_type": "code",
      "metadata": {
        "id": "EikBvuW-oDwK",
        "colab": {
          "base_uri": "https://localhost:8080/"
        },
        "outputId": "c1ec9684-d404-4c79-c226-3f4f95f8b809"
      },
      "source": [
        "def getInterClusterDistance(nodes):\n",
        "    pairs = nodeSameCluster(nodes)\n",
        "    sum_dist = 0\n",
        "    cnt = 0\n",
        "    for p in pairs:\n",
        "        pos1 = nodes_pos[p[0]]\n",
        "        pos2 = nodes_pos[p[1]]\n",
        "        sum_dist += norm(pos1, pos2)\n",
        "        cnt += 1\n",
        "    return sum_dist / cnt\n",
        "interDist = list()\n",
        "for nodesList in clusterNodes:\n",
        "    interDist.append(getInterClusterDistance(nodesList))\n",
        "interDist"
      ],
      "execution_count": null,
      "outputs": [
        {
          "output_type": "execute_result",
          "data": {
            "text/plain": [
              "[8.605443231132512, 8.426646268931133, 7.41378245653378]"
            ]
          },
          "metadata": {
            "tags": []
          },
          "execution_count": 36
        }
      ]
    },
    {
      "cell_type": "code",
      "metadata": {
        "id": "_yoJsYe-oFlY",
        "colab": {
          "base_uri": "https://localhost:8080/"
        },
        "outputId": "075cd100-e5bb-445f-9aca-ff893bb18b2e"
      },
      "source": [
        "def getIntraClusterDistance(nodes1, nodes2):\n",
        "    sum_dist = 0\n",
        "    for n1 in nodes1:\n",
        "        pos1 = nodes_pos[n1]\n",
        "        for n2 in nodes2:\n",
        "            pos2 = nodes_pos[n2]\n",
        "            sum_dist += norm(pos1, pos2)\n",
        "    return sum_dist / (len(nodes1) * len(nodes2))\n",
        "\n",
        "ECscore = list()\n",
        "for pairs in combinations(range(n_cluster), 2):\n",
        "    ECscore.append(1 - (interDist[pairs[0]] + interDist[pairs[1]]) / ( 2 * getIntraClusterDistance(clusterNodes[pairs[0]], clusterNodes[pairs[1]])))\n",
        "ECscore"
      ],
      "execution_count": null,
      "outputs": [
        {
          "output_type": "execute_result",
          "data": {
            "text/plain": [
              "[0.5095375250449774, 0.5541058177394484, 0.6870984339410499]"
            ]
          },
          "metadata": {
            "tags": []
          },
          "execution_count": 37
        }
      ]
    },
    {
      "cell_type": "code",
      "metadata": {
        "id": "G6XYUNtjoI1z",
        "colab": {
          "base_uri": "https://localhost:8080/"
        },
        "outputId": "65d2d73d-08c5-42dd-815e-3e672b765f02"
      },
      "source": [
        "np.mean(ECscore)"
      ],
      "execution_count": null,
      "outputs": [
        {
          "output_type": "execute_result",
          "data": {
            "text/plain": [
              "0.5835805922418252"
            ]
          },
          "metadata": {
            "tags": []
          },
          "execution_count": 38
        }
      ]
    }
  ]
}