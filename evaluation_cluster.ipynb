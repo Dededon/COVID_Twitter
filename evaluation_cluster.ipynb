{
 "metadata": {
  "language_info": {
   "codemirror_mode": {
    "name": "ipython",
    "version": 3
   },
   "file_extension": ".py",
   "mimetype": "text/x-python",
   "name": "python",
   "nbconvert_exporter": "python",
   "pygments_lexer": "ipython3",
   "version": "3.9.1"
  },
  "orig_nbformat": 2,
  "kernelspec": {
   "name": "python391jvsc74a57bd0e9e594fec8f33663b87b429f6d15e74420da06fa2e3d4def1cb265ae6d7ee476",
   "display_name": "Python 3.9.1 64-bit ('comp4211': conda)"
  }
 },
 "nbformat": 4,
 "nbformat_minor": 2,
 "cells": [
  {
   "cell_type": "code",
   "execution_count": 1,
   "metadata": {},
   "outputs": [],
   "source": [
    "import pandas as pd"
   ]
  },
  {
   "cell_type": "code",
   "execution_count": 25,
   "metadata": {},
   "outputs": [],
   "source": [
    "bert_mask_result = pd.read_csv('results/BERT_mask_result.csv')\n",
    "co_hashtag_mask_result = pd.read_csv('data/mask_co_hashtag_t2_cluster.csv')\n",
    "pure_hashtag_vaccine_result = pd.read_csv('results/pure_hashtag_feature.csv')\n",
    "pure_mention_vaccine_result = pd.read_csv('results/pure_mention_feature.csv')\n"
   ]
  },
  {
   "cell_type": "code",
   "execution_count": 6,
   "metadata": {},
   "outputs": [
    {
     "output_type": "execute_result",
     "data": {
      "text/plain": [
       "(                 node  cluster          x          y\n",
       " 0          0CoolKate0        1  -4.007771  -8.615798\n",
       " 1               0Dang        1  -4.935520  -8.778807\n",
       " 2        00GrlGamer00        1  -4.586827  -8.633324\n",
       " 3              0Kellz        5  15.753176   0.849553\n",
       " 4            0Khakee2        0   5.589919   2.431041\n",
       " ...               ...      ...        ...        ...\n",
       " 113957  zzwarrior9624        0  -4.288891   1.737103\n",
       " 113958     zzwhatzupp        0   5.405163   2.433516\n",
       " 113959         zzxyxy        2  13.413119 -13.027265\n",
       " 113960       zzzaZZZu        3  -7.874003   7.760045\n",
       " 113961      zzzskeppy        1  -5.748460  -8.007394\n",
       " \n",
       " [113962 rows x 4 columns],\n",
       "                  node  cluster\n",
       " 0            sdinny14        0\n",
       " 1     erinstreeterNAM        0\n",
       " 2           vinylcook        0\n",
       " 3           ShirtStru        0\n",
       " 4           brose2288        1\n",
       " ...               ...      ...\n",
       " 3420       arenaqueen        0\n",
       " 3421  TheLindaRobbins        0\n",
       " 3422    silalesanchez        0\n",
       " 3423      BarbieSnow6        0\n",
       " 3424      TheInkTruth        0\n",
       " \n",
       " [3425 rows x 2 columns])"
      ]
     },
     "metadata": {},
     "execution_count": 6
    }
   ],
   "source": [
    "bert_mask_result, co_hashtag_mask_result"
   ]
  },
  {
   "cell_type": "code",
   "execution_count": 8,
   "metadata": {},
   "outputs": [
    {
     "output_type": "execute_result",
     "data": {
      "text/plain": [
       "node       113962\n",
       "cluster         6\n",
       "x          113374\n",
       "y          113378\n",
       "dtype: int64"
      ]
     },
     "metadata": {},
     "execution_count": 8
    }
   ],
   "source": [
    "bert_mask_result.nunique()"
   ]
  },
  {
   "cell_type": "code",
   "execution_count": 40,
   "metadata": {},
   "outputs": [],
   "source": [
    "df = bert_mask_result.join(co_hashtag_mask_result.set_index('node'), on='node', lsuffix='_bert', rsuffix='_co_ht') \\\n",
    "                     .join(pure_hashtag_vaccine_result.set_index('node'), on='node', rsuffix='_pure_ht') \\\n",
    "                     .join(pure_mention_vaccine_result.set_index('node'), on='node', rsuffix='_pure_mention')\n",
    "df.rename({'cluster': 'cluster_pure_ht'}, inplace =True, axis = 'columns')\n"
   ]
  },
  {
   "cell_type": "code",
   "execution_count": 41,
   "metadata": {},
   "outputs": [
    {
     "output_type": "execute_result",
     "data": {
      "text/plain": [
       "                 node  cluster_bert          x          y  cluster_co_ht  \\\n",
       "0          0CoolKate0             1  -4.007771  -8.615798            NaN   \n",
       "1               0Dang             1  -4.935520  -8.778807            NaN   \n",
       "2        00GrlGamer00             1  -4.586827  -8.633324            NaN   \n",
       "3              0Kellz             5  15.753176   0.849553            NaN   \n",
       "4            0Khakee2             0   5.589919   2.431041            NaN   \n",
       "...               ...           ...        ...        ...            ...   \n",
       "113957  zzwarrior9624             0  -4.288891   1.737103            NaN   \n",
       "113958     zzwhatzupp             0   5.405163   2.433516            NaN   \n",
       "113959         zzxyxy             2  13.413119 -13.027265            NaN   \n",
       "113960       zzzaZZZu             3  -7.874003   7.760045            NaN   \n",
       "113961      zzzskeppy             1  -5.748460  -8.007394            NaN   \n",
       "\n",
       "        cluster_pure_ht  x_pure_ht  y_pure_ht  cluster_pure_mention  \\\n",
       "0                   NaN        NaN        NaN                   NaN   \n",
       "1                   NaN        NaN        NaN                   NaN   \n",
       "2                   NaN        NaN        NaN                   NaN   \n",
       "3                   NaN        NaN        NaN                   NaN   \n",
       "4                   NaN        NaN        NaN                   NaN   \n",
       "...                 ...        ...        ...                   ...   \n",
       "113957              NaN        NaN        NaN                   NaN   \n",
       "113958              NaN        NaN        NaN                   NaN   \n",
       "113959              NaN        NaN        NaN                   NaN   \n",
       "113960              NaN        NaN        NaN                   NaN   \n",
       "113961              NaN        NaN        NaN                   0.0   \n",
       "\n",
       "        x_pure_mention  y_pure_mention  \n",
       "0                  NaN             NaN  \n",
       "1                  NaN             NaN  \n",
       "2                  NaN             NaN  \n",
       "3                  NaN             NaN  \n",
       "4                  NaN             NaN  \n",
       "...                ...             ...  \n",
       "113957             NaN             NaN  \n",
       "113958             NaN             NaN  \n",
       "113959             NaN             NaN  \n",
       "113960             NaN             NaN  \n",
       "113961        3.911378        4.188682  \n",
       "\n",
       "[113962 rows x 11 columns]"
      ],
      "text/html": "<div>\n<style scoped>\n    .dataframe tbody tr th:only-of-type {\n        vertical-align: middle;\n    }\n\n    .dataframe tbody tr th {\n        vertical-align: top;\n    }\n\n    .dataframe thead th {\n        text-align: right;\n    }\n</style>\n<table border=\"1\" class=\"dataframe\">\n  <thead>\n    <tr style=\"text-align: right;\">\n      <th></th>\n      <th>node</th>\n      <th>cluster_bert</th>\n      <th>x</th>\n      <th>y</th>\n      <th>cluster_co_ht</th>\n      <th>cluster_pure_ht</th>\n      <th>x_pure_ht</th>\n      <th>y_pure_ht</th>\n      <th>cluster_pure_mention</th>\n      <th>x_pure_mention</th>\n      <th>y_pure_mention</th>\n    </tr>\n  </thead>\n  <tbody>\n    <tr>\n      <th>0</th>\n      <td>0CoolKate0</td>\n      <td>1</td>\n      <td>-4.007771</td>\n      <td>-8.615798</td>\n      <td>NaN</td>\n      <td>NaN</td>\n      <td>NaN</td>\n      <td>NaN</td>\n      <td>NaN</td>\n      <td>NaN</td>\n      <td>NaN</td>\n    </tr>\n    <tr>\n      <th>1</th>\n      <td>0Dang</td>\n      <td>1</td>\n      <td>-4.935520</td>\n      <td>-8.778807</td>\n      <td>NaN</td>\n      <td>NaN</td>\n      <td>NaN</td>\n      <td>NaN</td>\n      <td>NaN</td>\n      <td>NaN</td>\n      <td>NaN</td>\n    </tr>\n    <tr>\n      <th>2</th>\n      <td>00GrlGamer00</td>\n      <td>1</td>\n      <td>-4.586827</td>\n      <td>-8.633324</td>\n      <td>NaN</td>\n      <td>NaN</td>\n      <td>NaN</td>\n      <td>NaN</td>\n      <td>NaN</td>\n      <td>NaN</td>\n      <td>NaN</td>\n    </tr>\n    <tr>\n      <th>3</th>\n      <td>0Kellz</td>\n      <td>5</td>\n      <td>15.753176</td>\n      <td>0.849553</td>\n      <td>NaN</td>\n      <td>NaN</td>\n      <td>NaN</td>\n      <td>NaN</td>\n      <td>NaN</td>\n      <td>NaN</td>\n      <td>NaN</td>\n    </tr>\n    <tr>\n      <th>4</th>\n      <td>0Khakee2</td>\n      <td>0</td>\n      <td>5.589919</td>\n      <td>2.431041</td>\n      <td>NaN</td>\n      <td>NaN</td>\n      <td>NaN</td>\n      <td>NaN</td>\n      <td>NaN</td>\n      <td>NaN</td>\n      <td>NaN</td>\n    </tr>\n    <tr>\n      <th>...</th>\n      <td>...</td>\n      <td>...</td>\n      <td>...</td>\n      <td>...</td>\n      <td>...</td>\n      <td>...</td>\n      <td>...</td>\n      <td>...</td>\n      <td>...</td>\n      <td>...</td>\n      <td>...</td>\n    </tr>\n    <tr>\n      <th>113957</th>\n      <td>zzwarrior9624</td>\n      <td>0</td>\n      <td>-4.288891</td>\n      <td>1.737103</td>\n      <td>NaN</td>\n      <td>NaN</td>\n      <td>NaN</td>\n      <td>NaN</td>\n      <td>NaN</td>\n      <td>NaN</td>\n      <td>NaN</td>\n    </tr>\n    <tr>\n      <th>113958</th>\n      <td>zzwhatzupp</td>\n      <td>0</td>\n      <td>5.405163</td>\n      <td>2.433516</td>\n      <td>NaN</td>\n      <td>NaN</td>\n      <td>NaN</td>\n      <td>NaN</td>\n      <td>NaN</td>\n      <td>NaN</td>\n      <td>NaN</td>\n    </tr>\n    <tr>\n      <th>113959</th>\n      <td>zzxyxy</td>\n      <td>2</td>\n      <td>13.413119</td>\n      <td>-13.027265</td>\n      <td>NaN</td>\n      <td>NaN</td>\n      <td>NaN</td>\n      <td>NaN</td>\n      <td>NaN</td>\n      <td>NaN</td>\n      <td>NaN</td>\n    </tr>\n    <tr>\n      <th>113960</th>\n      <td>zzzaZZZu</td>\n      <td>3</td>\n      <td>-7.874003</td>\n      <td>7.760045</td>\n      <td>NaN</td>\n      <td>NaN</td>\n      <td>NaN</td>\n      <td>NaN</td>\n      <td>NaN</td>\n      <td>NaN</td>\n      <td>NaN</td>\n    </tr>\n    <tr>\n      <th>113961</th>\n      <td>zzzskeppy</td>\n      <td>1</td>\n      <td>-5.748460</td>\n      <td>-8.007394</td>\n      <td>NaN</td>\n      <td>NaN</td>\n      <td>NaN</td>\n      <td>NaN</td>\n      <td>0.0</td>\n      <td>3.911378</td>\n      <td>4.188682</td>\n    </tr>\n  </tbody>\n</table>\n<p>113962 rows × 11 columns</p>\n</div>"
     },
     "metadata": {},
     "execution_count": 41
    }
   ],
   "source": [
    "df"
   ]
  },
  {
   "cell_type": "code",
   "execution_count": 33,
   "metadata": {},
   "outputs": [
    {
     "output_type": "execute_result",
     "data": {
      "text/plain": [
       "                  node  cluster_bert          x          y  cluster_co_ht  \\\n",
       "177          1loriking             2  12.211614 -14.746215            NaN   \n",
       "194           1point15             0   1.679628   2.688395            0.0   \n",
       "333           3Emedico             0   2.130909   3.135673            NaN   \n",
       "361           3fatcats             0   1.317067  -1.157125            NaN   \n",
       "432             4Tchat             0   1.681846   2.854248            0.0   \n",
       "...                ...           ...        ...        ...            ...   \n",
       "112753   x_jupiterhart             0   1.454329   2.659796            0.0   \n",
       "113311     yogoldsmith             4   9.195875  18.130156            NaN   \n",
       "113649  zainliaquat125             0   2.026792   1.980519            NaN   \n",
       "113750      zephyr9673             0   0.685105   2.936842            0.0   \n",
       "113862       zogarreal             0  -1.914235   2.699461            0.0   \n",
       "\n",
       "        cluster  x_pure_ht  y_pure_ht  cluster_pure_mention  x_pure_mention  \\\n",
       "177         2.0 -34.697285  56.056190                   NaN             NaN   \n",
       "194         2.0 -35.196060  56.403250                   0.0       10.541205   \n",
       "333         1.0  -6.591621  28.712133                   NaN             NaN   \n",
       "361         1.0   3.312843  18.991138                   NaN             NaN   \n",
       "432         2.0 -36.188430  56.873253                   NaN             NaN   \n",
       "...         ...        ...        ...                   ...             ...   \n",
       "112753      2.0 -35.697628  57.127150                   NaN             NaN   \n",
       "113311      0.0   4.680481 -23.962885                   3.0       19.383411   \n",
       "113649      1.0   3.475061  19.539839                   NaN             NaN   \n",
       "113750      1.0  -6.878275  28.493670                   NaN             NaN   \n",
       "113862      1.0  -8.433498  19.008606                   5.0        9.253588   \n",
       "\n",
       "        y_pure_mention  \n",
       "177                NaN  \n",
       "194           2.945501  \n",
       "333                NaN  \n",
       "361                NaN  \n",
       "432                NaN  \n",
       "...                ...  \n",
       "112753             NaN  \n",
       "113311        4.847364  \n",
       "113649             NaN  \n",
       "113750             NaN  \n",
       "113862       13.782414  \n",
       "\n",
       "[671 rows x 11 columns]"
      ],
      "text/html": "<div>\n<style scoped>\n    .dataframe tbody tr th:only-of-type {\n        vertical-align: middle;\n    }\n\n    .dataframe tbody tr th {\n        vertical-align: top;\n    }\n\n    .dataframe thead th {\n        text-align: right;\n    }\n</style>\n<table border=\"1\" class=\"dataframe\">\n  <thead>\n    <tr style=\"text-align: right;\">\n      <th></th>\n      <th>node</th>\n      <th>cluster_bert</th>\n      <th>x</th>\n      <th>y</th>\n      <th>cluster_co_ht</th>\n      <th>cluster</th>\n      <th>x_pure_ht</th>\n      <th>y_pure_ht</th>\n      <th>cluster_pure_mention</th>\n      <th>x_pure_mention</th>\n      <th>y_pure_mention</th>\n    </tr>\n  </thead>\n  <tbody>\n    <tr>\n      <th>177</th>\n      <td>1loriking</td>\n      <td>2</td>\n      <td>12.211614</td>\n      <td>-14.746215</td>\n      <td>NaN</td>\n      <td>2.0</td>\n      <td>-34.697285</td>\n      <td>56.056190</td>\n      <td>NaN</td>\n      <td>NaN</td>\n      <td>NaN</td>\n    </tr>\n    <tr>\n      <th>194</th>\n      <td>1point15</td>\n      <td>0</td>\n      <td>1.679628</td>\n      <td>2.688395</td>\n      <td>0.0</td>\n      <td>2.0</td>\n      <td>-35.196060</td>\n      <td>56.403250</td>\n      <td>0.0</td>\n      <td>10.541205</td>\n      <td>2.945501</td>\n    </tr>\n    <tr>\n      <th>333</th>\n      <td>3Emedico</td>\n      <td>0</td>\n      <td>2.130909</td>\n      <td>3.135673</td>\n      <td>NaN</td>\n      <td>1.0</td>\n      <td>-6.591621</td>\n      <td>28.712133</td>\n      <td>NaN</td>\n      <td>NaN</td>\n      <td>NaN</td>\n    </tr>\n    <tr>\n      <th>361</th>\n      <td>3fatcats</td>\n      <td>0</td>\n      <td>1.317067</td>\n      <td>-1.157125</td>\n      <td>NaN</td>\n      <td>1.0</td>\n      <td>3.312843</td>\n      <td>18.991138</td>\n      <td>NaN</td>\n      <td>NaN</td>\n      <td>NaN</td>\n    </tr>\n    <tr>\n      <th>432</th>\n      <td>4Tchat</td>\n      <td>0</td>\n      <td>1.681846</td>\n      <td>2.854248</td>\n      <td>0.0</td>\n      <td>2.0</td>\n      <td>-36.188430</td>\n      <td>56.873253</td>\n      <td>NaN</td>\n      <td>NaN</td>\n      <td>NaN</td>\n    </tr>\n    <tr>\n      <th>...</th>\n      <td>...</td>\n      <td>...</td>\n      <td>...</td>\n      <td>...</td>\n      <td>...</td>\n      <td>...</td>\n      <td>...</td>\n      <td>...</td>\n      <td>...</td>\n      <td>...</td>\n      <td>...</td>\n    </tr>\n    <tr>\n      <th>112753</th>\n      <td>x_jupiterhart</td>\n      <td>0</td>\n      <td>1.454329</td>\n      <td>2.659796</td>\n      <td>0.0</td>\n      <td>2.0</td>\n      <td>-35.697628</td>\n      <td>57.127150</td>\n      <td>NaN</td>\n      <td>NaN</td>\n      <td>NaN</td>\n    </tr>\n    <tr>\n      <th>113311</th>\n      <td>yogoldsmith</td>\n      <td>4</td>\n      <td>9.195875</td>\n      <td>18.130156</td>\n      <td>NaN</td>\n      <td>0.0</td>\n      <td>4.680481</td>\n      <td>-23.962885</td>\n      <td>3.0</td>\n      <td>19.383411</td>\n      <td>4.847364</td>\n    </tr>\n    <tr>\n      <th>113649</th>\n      <td>zainliaquat125</td>\n      <td>0</td>\n      <td>2.026792</td>\n      <td>1.980519</td>\n      <td>NaN</td>\n      <td>1.0</td>\n      <td>3.475061</td>\n      <td>19.539839</td>\n      <td>NaN</td>\n      <td>NaN</td>\n      <td>NaN</td>\n    </tr>\n    <tr>\n      <th>113750</th>\n      <td>zephyr9673</td>\n      <td>0</td>\n      <td>0.685105</td>\n      <td>2.936842</td>\n      <td>0.0</td>\n      <td>1.0</td>\n      <td>-6.878275</td>\n      <td>28.493670</td>\n      <td>NaN</td>\n      <td>NaN</td>\n      <td>NaN</td>\n    </tr>\n    <tr>\n      <th>113862</th>\n      <td>zogarreal</td>\n      <td>0</td>\n      <td>-1.914235</td>\n      <td>2.699461</td>\n      <td>0.0</td>\n      <td>1.0</td>\n      <td>-8.433498</td>\n      <td>19.008606</td>\n      <td>5.0</td>\n      <td>9.253588</td>\n      <td>13.782414</td>\n    </tr>\n  </tbody>\n</table>\n<p>671 rows × 11 columns</p>\n</div>"
     },
     "metadata": {},
     "execution_count": 33
    }
   ],
   "source": [
    "df.dropna(subset=['cluster'])\n"
   ]
  },
  {
   "cell_type": "code",
   "execution_count": 29,
   "metadata": {},
   "outputs": [],
   "source": [
    "df.reset_index(drop=True, inplace=True)"
   ]
  },
  {
   "cell_type": "code",
   "execution_count": 30,
   "metadata": {},
   "outputs": [
    {
     "output_type": "execute_result",
     "data": {
      "text/plain": [
       "               node  cluster_bert          x          y  cluster_co_ht  \\\n",
       "0          1point15             0   1.679628   2.688395            0.0   \n",
       "1          6bottoms             3 -15.656252   9.091455            1.0   \n",
       "2        AliAdair22             0   3.518165  -0.150064            0.0   \n",
       "3     AlwaysYellow4             1 -12.358187 -18.965252            0.0   \n",
       "4   AndreaAndreamax             0   4.924740  -1.680534            1.0   \n",
       "..              ...           ...        ...        ...            ...   \n",
       "89          td21241             5  17.317883   6.991930            0.0   \n",
       "90       teesbakers             0  -1.906677   2.698339            0.0   \n",
       "91   tothelostmonth             0   3.328416   2.280626            0.0   \n",
       "92  viralvideovlogs             0   2.937543   2.021631            0.0   \n",
       "93        zogarreal             0  -1.914235   2.699461            0.0   \n",
       "\n",
       "    cluster  x_pure_ht  y_pure_ht  cluster_pure_mention  x_pure_mention  \\\n",
       "0       2.0 -35.196060  56.403250                   0.0       10.541205   \n",
       "1       0.0   6.303479 -22.365068                   0.0        1.539082   \n",
       "2       0.0   6.300999 -22.366734                   0.0        4.070281   \n",
       "3       1.0  -8.467971  18.974117                   5.0        9.251595   \n",
       "4       0.0   1.350091 -18.390558                   0.0        1.821400   \n",
       "..      ...        ...        ...                   ...             ...   \n",
       "89      1.0   3.462775  19.712688                   3.0       24.187447   \n",
       "90      1.0  -8.415947  19.026089                   5.0        9.253348   \n",
       "91      0.0 -10.110718  -7.110501                   2.0       -9.153315   \n",
       "92      1.0  -8.179820  28.094648                   4.0       13.246377   \n",
       "93      1.0  -8.433498  19.008606                   5.0        9.253588   \n",
       "\n",
       "    y_pure_mention  \n",
       "0         2.945501  \n",
       "1         3.303240  \n",
       "2         3.462866  \n",
       "3        13.784362  \n",
       "4         5.000598  \n",
       "..             ...  \n",
       "89        4.025292  \n",
       "90       13.782856  \n",
       "91       -5.308731  \n",
       "92      -10.357250  \n",
       "93       13.782414  \n",
       "\n",
       "[94 rows x 11 columns]"
      ],
      "text/html": "<div>\n<style scoped>\n    .dataframe tbody tr th:only-of-type {\n        vertical-align: middle;\n    }\n\n    .dataframe tbody tr th {\n        vertical-align: top;\n    }\n\n    .dataframe thead th {\n        text-align: right;\n    }\n</style>\n<table border=\"1\" class=\"dataframe\">\n  <thead>\n    <tr style=\"text-align: right;\">\n      <th></th>\n      <th>node</th>\n      <th>cluster_bert</th>\n      <th>x</th>\n      <th>y</th>\n      <th>cluster_co_ht</th>\n      <th>cluster</th>\n      <th>x_pure_ht</th>\n      <th>y_pure_ht</th>\n      <th>cluster_pure_mention</th>\n      <th>x_pure_mention</th>\n      <th>y_pure_mention</th>\n    </tr>\n  </thead>\n  <tbody>\n    <tr>\n      <th>0</th>\n      <td>1point15</td>\n      <td>0</td>\n      <td>1.679628</td>\n      <td>2.688395</td>\n      <td>0.0</td>\n      <td>2.0</td>\n      <td>-35.196060</td>\n      <td>56.403250</td>\n      <td>0.0</td>\n      <td>10.541205</td>\n      <td>2.945501</td>\n    </tr>\n    <tr>\n      <th>1</th>\n      <td>6bottoms</td>\n      <td>3</td>\n      <td>-15.656252</td>\n      <td>9.091455</td>\n      <td>1.0</td>\n      <td>0.0</td>\n      <td>6.303479</td>\n      <td>-22.365068</td>\n      <td>0.0</td>\n      <td>1.539082</td>\n      <td>3.303240</td>\n    </tr>\n    <tr>\n      <th>2</th>\n      <td>AliAdair22</td>\n      <td>0</td>\n      <td>3.518165</td>\n      <td>-0.150064</td>\n      <td>0.0</td>\n      <td>0.0</td>\n      <td>6.300999</td>\n      <td>-22.366734</td>\n      <td>0.0</td>\n      <td>4.070281</td>\n      <td>3.462866</td>\n    </tr>\n    <tr>\n      <th>3</th>\n      <td>AlwaysYellow4</td>\n      <td>1</td>\n      <td>-12.358187</td>\n      <td>-18.965252</td>\n      <td>0.0</td>\n      <td>1.0</td>\n      <td>-8.467971</td>\n      <td>18.974117</td>\n      <td>5.0</td>\n      <td>9.251595</td>\n      <td>13.784362</td>\n    </tr>\n    <tr>\n      <th>4</th>\n      <td>AndreaAndreamax</td>\n      <td>0</td>\n      <td>4.924740</td>\n      <td>-1.680534</td>\n      <td>1.0</td>\n      <td>0.0</td>\n      <td>1.350091</td>\n      <td>-18.390558</td>\n      <td>0.0</td>\n      <td>1.821400</td>\n      <td>5.000598</td>\n    </tr>\n    <tr>\n      <th>...</th>\n      <td>...</td>\n      <td>...</td>\n      <td>...</td>\n      <td>...</td>\n      <td>...</td>\n      <td>...</td>\n      <td>...</td>\n      <td>...</td>\n      <td>...</td>\n      <td>...</td>\n      <td>...</td>\n    </tr>\n    <tr>\n      <th>89</th>\n      <td>td21241</td>\n      <td>5</td>\n      <td>17.317883</td>\n      <td>6.991930</td>\n      <td>0.0</td>\n      <td>1.0</td>\n      <td>3.462775</td>\n      <td>19.712688</td>\n      <td>3.0</td>\n      <td>24.187447</td>\n      <td>4.025292</td>\n    </tr>\n    <tr>\n      <th>90</th>\n      <td>teesbakers</td>\n      <td>0</td>\n      <td>-1.906677</td>\n      <td>2.698339</td>\n      <td>0.0</td>\n      <td>1.0</td>\n      <td>-8.415947</td>\n      <td>19.026089</td>\n      <td>5.0</td>\n      <td>9.253348</td>\n      <td>13.782856</td>\n    </tr>\n    <tr>\n      <th>91</th>\n      <td>tothelostmonth</td>\n      <td>0</td>\n      <td>3.328416</td>\n      <td>2.280626</td>\n      <td>0.0</td>\n      <td>0.0</td>\n      <td>-10.110718</td>\n      <td>-7.110501</td>\n      <td>2.0</td>\n      <td>-9.153315</td>\n      <td>-5.308731</td>\n    </tr>\n    <tr>\n      <th>92</th>\n      <td>viralvideovlogs</td>\n      <td>0</td>\n      <td>2.937543</td>\n      <td>2.021631</td>\n      <td>0.0</td>\n      <td>1.0</td>\n      <td>-8.179820</td>\n      <td>28.094648</td>\n      <td>4.0</td>\n      <td>13.246377</td>\n      <td>-10.357250</td>\n    </tr>\n    <tr>\n      <th>93</th>\n      <td>zogarreal</td>\n      <td>0</td>\n      <td>-1.914235</td>\n      <td>2.699461</td>\n      <td>0.0</td>\n      <td>1.0</td>\n      <td>-8.433498</td>\n      <td>19.008606</td>\n      <td>5.0</td>\n      <td>9.253588</td>\n      <td>13.782414</td>\n    </tr>\n  </tbody>\n</table>\n<p>94 rows × 11 columns</p>\n</div>"
     },
     "metadata": {},
     "execution_count": 30
    }
   ],
   "source": [
    "df"
   ]
  },
  {
   "source": [
    "# Rand index (pairwise comparison)"
   ],
   "cell_type": "markdown",
   "metadata": {}
  },
  {
   "cell_type": "code",
   "execution_count": 22,
   "metadata": {},
   "outputs": [
    {
     "output_type": "execute_result",
     "data": {
      "text/plain": [
       "0.5748766969097483"
      ]
     },
     "metadata": {},
     "execution_count": 22
    }
   ],
   "source": [
    "from sklearn import metrics\n",
    "labels_true = df['cluster_bert']\n",
    "labels_pred = df['cluster_co_ht']\n",
    "metrics.rand_score(labels_true, labels_pred)"
   ]
  },
  {
   "cell_type": "code",
   "execution_count": 45,
   "metadata": {},
   "outputs": [
    {
     "output_type": "stream",
     "name": "stdout",
     "text": [
      "[(1, 'Mallika'), (1, 2), (1, 'Yash'), ('Mallika', 2), ('Mallika', 'Yash'), (2, 'Yash')]\n"
     ]
    }
   ],
   "source": [
    "# importing required library\n",
    "import itertools\n",
    "\n",
    "\n",
    "# creating a list of elements belonging\n",
    "\n",
    "# 3 to integers and strings\n",
    "lst = [1,\"Mallika\",2,\"Yash\"]\n",
    "\n",
    "# simulating permutations of the list in\n",
    "# a group of 2\n",
    "pair_order_list = itertools.combinations(lst,2)\n",
    "\n",
    "# printing the elements belonging to permutations\n",
    "print (list(pair_order_list))\n"
   ]
  },
  {
   "cell_type": "code",
   "execution_count": null,
   "metadata": {},
   "outputs": [],
   "source": []
  }
 ]
}